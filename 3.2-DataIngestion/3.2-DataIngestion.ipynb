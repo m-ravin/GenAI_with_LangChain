{
 "cells": [
  {
   "cell_type": "markdown",
   "id": "d77b6673",
   "metadata": {},
   "source": [
    "## Data Ingestion - Dcoumentloaders\n",
    "\n",
    "https://python.langchain.com/docs/integrations/document_loaders/"
   ]
  },
  {
   "cell_type": "code",
   "execution_count": null,
   "id": "996ef712",
   "metadata": {},
   "outputs": [],
   "source": [
    "## text loader\n",
    "\n",
    "from langchain_community.document_loaders import TextLoader\n",
    "\n",
    "loader = TextLoader('speech.txt')"
   ]
  },
  {
   "cell_type": "code",
   "execution_count": null,
   "id": "8ad2b933",
   "metadata": {},
   "outputs": [],
   "source": [
    "loader.load() # returns a list of documents"
   ]
  },
  {
   "cell_type": "code",
   "execution_count": null,
   "id": "d394042b",
   "metadata": {},
   "outputs": [],
   "source": [
    "## Read PDF files\n",
    "\n",
    "from langchain_community.document_loaders import PyPDFLoader\n",
    "\n",
    "loader = PyPDFLoader(\"attention.pdf\")\n"
   ]
  },
  {
   "cell_type": "code",
   "execution_count": null,
   "id": "e90f8c7c",
   "metadata": {},
   "outputs": [],
   "source": [
    "loader.load() # returns a list of documents"
   ]
  },
  {
   "cell_type": "code",
   "execution_count": null,
   "id": "7b835407",
   "metadata": {},
   "outputs": [],
   "source": []
  }
 ],
 "metadata": {
  "kernelspec": {
   "display_name": ".venv",
   "language": "python",
   "name": "python3"
  },
  "language_info": {
   "codemirror_mode": {
    "name": "ipython",
    "version": 3
   },
   "file_extension": ".py",
   "mimetype": "text/x-python",
   "name": "python",
   "nbconvert_exporter": "python",
   "pygments_lexer": "ipython3",
   "version": "3.9.6"
  }
 },
 "nbformat": 4,
 "nbformat_minor": 5
}
