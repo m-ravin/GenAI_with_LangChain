{
 "cells": [
  {
   "cell_type": "markdown",
   "id": "7d324b9b",
   "metadata": {},
   "source": [
    "## Getting started with LangChain and Open AI\n",
    "- Setup with LangChain, LongSmith and LongServe\n",
    "- Use the basic components of LangChain: prompt templates, models, and output parsers\n",
    "- Build a siomple application with LangChain\n",
    "- Trace your application with LangSmith\n",
    "- Serve your application with LangServe"
   ]
  }
 ],
 "metadata": {
  "language_info": {
   "name": "python"
  }
 },
 "nbformat": 4,
 "nbformat_minor": 5
}
